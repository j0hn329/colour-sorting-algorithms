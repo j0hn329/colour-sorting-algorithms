{
 "cells": [
  {
   "cell_type": "markdown",
   "metadata": {},
   "source": [
    "University of Stirling<br>\n",
    "Author: John Poole (ID: 2636515)\n",
    "#### CSCU9YE - Artificial Intelligence<br>"
   ]
  },
  {
   "cell_type": "markdown",
   "metadata": {},
   "source": [
    "# Notebook 1 - Multi-start hill-climbing algorithm (40 %)"
   ]
  },
  {
   "cell_type": "markdown",
   "metadata": {},
   "source": [
    "### Reading the data file"
   ]
  },
  {
   "cell_type": "code",
   "execution_count": 18,
   "metadata": {},
   "outputs": [],
   "source": [
    "import random as rnd\n",
    "import numpy as np # Numerical library, used keeing the list of colours and computing the Euclidean distance\n",
    "import copy\n",
    "\n",
    "# Read in the color data file \n",
    "# Input: string with file name\n",
    "# Oputput: the number of colours (integer), and a list numpy arrays with all the colours\n",
    "def read_data(fname):\n",
    "    cols = np.loadtxt(fname, skiprows = 4) # The first 4 lines have text information, and are ignored     \n",
    "    ncols = len(cols)     # Total number of colours and list of colours\n",
    "    return ncols,cols"
   ]
  },
  {
   "cell_type": "markdown",
   "metadata": {},
   "source": [
    "#### 100 Colour dataset"
   ]
  },
  {
   "cell_type": "code",
   "execution_count": 11,
   "metadata": {},
   "outputs": [],
   "source": [
    "ncolors, colors = read_data(\"col100.txt\")"
   ]
  },
  {
   "cell_type": "markdown",
   "metadata": {},
   "source": [
    "#### 500 Colour dataset"
   ]
  },
  {
   "cell_type": "code",
   "execution_count": 19,
   "metadata": {},
   "outputs": [],
   "source": [
    "ncolors, colors = read_data(\"col500.txt\")"
   ]
  },
  {
   "cell_type": "markdown",
   "metadata": {},
   "source": [
    "### Plotting a sequence of colours"
   ]
  },
  {
   "cell_type": "code",
   "execution_count": 20,
   "metadata": {},
   "outputs": [],
   "source": [
    "import matplotlib.pyplot as plt\n",
    "\n",
    "# Dsiplay the colors as a strip of color bars\n",
    "# Input: list of colors, order of colors, and height/ratio\n",
    "\n",
    "def plot_colors(col_list, col_order, ratio = 10): \n",
    "    assert len(col_list) == len(col_order)\n",
    "    img = np.zeros((ratio, len(col_list), 3))\n",
    "    for i in range(0, len(col_list)):\n",
    "        img[:, i, :] = col_list[col_order[i]]\n",
    "    fig, axes = plt.subplots(1, figsize=(10,6)) # figsize=(width,height) handles window dimensions\n",
    "    axes.imshow(img, interpolation='nearest')\n",
    "    axes.axis('off')\n",
    "    plt.show()"
   ]
  },
  {
   "cell_type": "markdown",
   "metadata": {},
   "source": [
    "### Evaluation function to determine the quality of a given ordering of colours"
   ]
  },
  {
   "cell_type": "code",
   "execution_count": 21,
   "metadata": {},
   "outputs": [],
   "source": [
    "# This is an auxiliary function. It calculate the Euclidean distance between two individual colours\n",
    "# Input: v and u as to be numpy arrays, vectors of real numbers with the RGB coordinates.\n",
    "\n",
    "def euclid(v, u):\n",
    "    return np.linalg.norm(v - u)\n",
    "\n",
    "# Evaluation function.  Measures the quality of a given solution (ordering of colours) \n",
    "# The function computes the sum of the distances between all consecutive colours in the ordering\n",
    "# Input: cols: list of colours \n",
    "#        ordc: ordering of colours\n",
    "# Output: real number with the sumf of pair-wise differences in the colour ordering\n",
    "\n",
    "def evaluate(cols, ordc):     \n",
    "    adjacentColPairs = [[cols[ordc[i]],cols[ordc[i-1]]] for i in range(1,len(ordc))]\n",
    "    return sum([euclid(i[1], i[0]) for i in adjacentColPairs])"
   ]
  },
  {
   "cell_type": "markdown",
   "metadata": {},
   "source": [
    "### Random Solution & Neighbour\n",
    "\n",
    "#### Neighbourhood :  Swap Operator\n",
    "The swap operator is a simple and effective mutation operator. It works by selecting two colour indices at random positions and swapping them to create a neighbouring solution. I chose to implement this operator in my code mostly because of its quick implementation in producing a neighbouring solution."
   ]
  },
  {
   "cell_type": "code",
   "execution_count": 22,
   "metadata": {},
   "outputs": [],
   "source": [
    "# Function to generate a random solution (random ordering)  - we can generate a random ordering of the list by using\n",
    "# the shuffle function from the random library\n",
    "def random_sol():\n",
    "    sol = list(range(ncolors))   # list of consequtive numbers from 0 to ncolors\n",
    "    # Shuffle the elements in the list randomly. Shuffles in place and doesn’t retunr a value\n",
    "    rnd.shuffle(sol)   \n",
    "    return sol\n",
    "\n",
    "# Function to generate a random neighbour solution \n",
    "def random_neighbour(sol):\n",
    "    neighbour = sol.copy() # creating a copy of the list\n",
    "    \n",
    "    # selecting positions of the random indices \n",
    "    index1 = rnd.randint(0,len(sol) - 1)\n",
    "    index2 = rnd.randint(0,len(sol) - 1)\n",
    "    \n",
    "    # changes index2 in the case the indices are the same\n",
    "    while index1 == index2:\n",
    "        index2 = rnd.randint(0,len(sol) - 1)\n",
    "            \n",
    "    # swap the two random indices based on thier index \n",
    "    val1 = sol[index1]\n",
    "    val2 = sol[index2]\n",
    "    neighbour[index1] = val2\n",
    "    neighbour[index2] = val1 \n",
    "\n",
    "    return neighbour"
   ]
  },
  {
   "cell_type": "markdown",
   "metadata": {},
   "source": [
    "### Hill Climbing"
   ]
  },
  {
   "cell_type": "code",
   "execution_count": 23,
   "metadata": {},
   "outputs": [],
   "source": [
    "def hill_climbing(maxiter):\n",
    "    trace = []\n",
    "    solution = random_sol() #random solution \n",
    "    \n",
    "    for i in range(maxiter):\n",
    "        sol_sum = evaluate(colors, solution) # evaluate current solution \n",
    "        neighbour_sol = random_neighbour(solution) # generate random neighbour with current solution\n",
    "        neighbour_sum = evaluate(colors, neighbour_sol) # evaluate neighbour solution \n",
    "        \n",
    "        # if neighbour solution is better, it becomes the new solution \n",
    "        if neighbour_sum < sol_sum:\n",
    "            trace.append(neighbour_sum)\n",
    "            solution = neighbour_sol.copy()     \n",
    "            \n",
    "    return solution, trace"
   ]
  },
  {
   "cell_type": "markdown",
   "metadata": {},
   "source": [
    "#### Solution - Single Run Hill Climb 100 colours"
   ]
  },
  {
   "cell_type": "code",
   "execution_count": 7,
   "metadata": {},
   "outputs": [
    {
     "data": {
      "image/png": "[encoded data removed]",
      "text/plain": [
       "<Figure size 432x288 with 1 Axes>"
      ]
     },
     "metadata": {
      "needs_background": "light"
     },
     "output_type": "display_data"
    },
    {
     "name": "stdout",
     "output_type": "stream",
     "text": [
      "\n",
      "Objective Function Values: [60.5345384676292, 60.16589231637071, 59.57990382944647, 58.83344881878006, 58.7720044342081, 57.895649736461664, 57.670219193226124, 57.27621831904446, 56.30823141203149, 55.52559505842693, 55.166603880603816, 54.85950844289869, 54.61117669924676, 54.52451609038971, 54.4847268309407, 54.48332955697591, 54.378159748987606, 54.362035532314806, 54.32348333854736, 53.893845980298, 53.64961819239783, 53.3493708719578, 53.338278610661156, 53.29540098466899, 52.74335503012965, 52.599075330406656, 51.799002795569706, 51.419682240420485, 51.05963009768723, 51.03407305461225, 50.955121476101574, 50.72318805896048, 50.64226167024332, 50.130801188742986, 49.661114750968295, 49.65866388158565, 49.60261573573468, 49.33919251213905, 48.25879805809844, 48.024101570230314, 47.89975849597168, 47.897767451037005, 47.82131401679989, 47.13027103259734, 46.80915124597655, 46.543628990546225, 46.45508150594577, 46.31346822469724, 45.979281169582215, 45.93099694780214, 45.90172982748388, 45.51285641515199, 45.45552290097834, 44.83817934214162, 44.63205342428721, 43.97657178503566, 43.34429710623482, 42.94130962853608, 42.7927786083694, 42.747834828277234, 42.67909379439583, 42.012689351836215, 41.76444619413103, 41.59074203839463, 41.50561116099514, 41.27346768931862, 40.743305462835735, 40.69716251333502, 40.664297546911506, 40.397642237953704, 40.223563562407826, 40.19552618430089, 40.13335695278016, 39.915945209636014, 39.64530522500159, 39.64039435605002, 39.54854746729449, 39.06773226744565, 39.01684044240521]\n"
     ]
    }
   ],
   "source": [
    "hc_sol, trce = hill_climbing(500) # run hill climbing algorithm for number of iterations \n",
    "\n",
    "# graph to visualise trace of objective function values obtained across \n",
    "# a single run of the Hill-climbing algorithm\n",
    "plt.figure()\n",
    "plt.suptitle('Hill Climb Line Graph 100 colours')\n",
    "plt.plot(trce) \n",
    "plt.ylabel(\"Evaluation Function\")\n",
    "plt.show()\n",
    "\n",
    "# printing the trace of objective function values across a single run \n",
    "print('\\nObjective Function Values:', trce)"
   ]
  },
  {
   "cell_type": "markdown",
   "metadata": {},
   "source": [
    "#### Solution - Single Run Hill Climb 500 colours"
   ]
  },
  {
   "cell_type": "code",
   "execution_count": 10,
   "metadata": {},
   "outputs": [
    {
     "data": {
      "image/png": "[encoded data removed]",
      "text/plain": [
       "<Figure size 432x288 with 1 Axes>"
      ]
     },
     "metadata": {
      "needs_background": "light"
     },
     "output_type": "display_data"
    },
    {
     "name": "stdout",
     "output_type": "stream",
     "text": [
      "\n",
      "Objective Function Values: [329.92677643389317, 329.92614856403605, 329.74546142002254, 329.2932871191661, 328.34651864535465, 327.6567969450515, 326.83424095801377, 326.8148870689234, 326.3120421975052, 325.31645145606205, 324.95700288774776, 324.11057568656287, 323.92449214515125, 323.86709403692174, 323.57852252616874, 323.0365333383903, 322.5657647914352, 322.35652191265615, 322.29689811496354, 321.8664108647577, 321.5288872510234, 321.2618115894415, 319.92161253417095, 318.01081468386246, 317.81414644921, 317.34580321322153, 317.19527938978365, 317.0485701503124, 316.9763521087754, 316.7407216090933, 316.7016417179365, 316.458941491893, 315.9504108104988, 315.3696642783826, 315.2303372334102, 314.2982362929272, 313.6125230024565, 313.2536597435969, 311.09415441865815, 311.0461766752248, 310.81282875166335, 310.4406893614822, 310.1975125963941, 309.78759660140753, 309.05735399503044, 308.0801401446657, 306.45328605331764, 306.2950254808997, 306.2875870225029, 305.8398398160124, 304.9098969797982, 304.9035214967137, 304.8935266427104, 304.67317644829495, 304.4521889362894, 304.3517749917157, 303.64738553966004, 303.6425831819975, 303.4502706850747, 303.43135013761776, 303.4021623802289, 302.9018755687064, 302.4804861635356, 302.27252204796105, 302.20620922514547, 301.8892954790255, 301.4707085159857, 301.10007809950065, 300.49669517437457, 300.2684382857223, 300.2420675142569, 300.2350687373414, 300.11657921491235, 299.9968903869258, 299.9624191593468, 299.7272207925694, 299.2461200903936, 298.2482665407107, 298.0352762713618, 297.62202740692993, 297.33868732602895, 296.3023518344025, 296.2264764431541, 296.20638384367186, 295.80250648823284, 295.53795775149314, 294.9974392900784, 294.5709455440376, 293.9509830326545, 293.7659708962791, 293.64003533758915, 293.42376235618747, 293.3110391866148, 293.1446456917451, 292.5942640132619, 291.0404733419592, 290.34857301998414, 289.64906825287096, 288.45787298802946, 288.0750233945707, 287.67152618142194, 287.137790460059, 287.0203868578632, 286.7929950356514, 286.3711039929579, 285.85806246551573, 285.80448166280036, 285.7325087544596, 284.71723000467756, 283.79576029878854, 283.570878589707, 283.09532688586677, 282.48605435709396, 281.69916688699163, 281.69310765232257, 281.6770549712243, 281.2384199301669, 280.83326895291833, 280.4852843375427, 280.2854039794631, 280.06507225516873, 279.70661114045464, 279.6469648897825, 279.3521619415883, 278.6676300715874, 278.5305158312008, 278.2064175720089, 278.06729031215787, 277.94319969952903, 277.80650125611425, 277.67482846019095, 277.19125296810284, 277.14926303784176, 277.0530467997954, 277.0456240867519, 276.4863334765553, 276.48240866676497, 275.82518878024547, 275.36627875277344, 275.3337047521403, 275.092052559341, 274.9103051730247, 274.6960486493207, 274.0573928307272, 273.8741158205396, 273.75226821267967, 273.5727485383871, 273.50025807381456, 272.60492266875326, 272.29878984026567, 272.12020470958527, 270.9005184955401, 270.68860778320936, 270.242095121871, 269.93021863109516, 269.6835372098486, 269.42360574008615, 269.2771310267922, 269.24119609719054, 268.75049551667166, 268.50272267459826, 268.08507892801197, 267.90451043704866, 267.7590766905164, 267.6946460887077, 267.61469139654747, 266.90728681806877, 266.61621852621704, 265.77489972168485, 264.9391947964889, 263.159695063887, 262.73927955359216, 262.39044026685156, 261.8786036215094, 261.4346533918233, 261.149456841591, 260.90845457086374, 260.8070393852529]\n"
     ]
    }
   ],
   "source": [
    "hc_sol, trce = hill_climbing(500) # run hill climbing algorithm for number of iterations \n",
    "\n",
    "# graph to visualise trace of objective function values obtained across \n",
    "# a single run of the Hill-climbing algorithm\n",
    "plt.figure()\n",
    "plt.suptitle('Hill Climb Line Graph 500 colours')\n",
    "plt.plot(trce) \n",
    "plt.ylabel(\"Evaluation Function\")\n",
    "plt.show()\n",
    "\n",
    "# printing the trace of objective function values across a single run \n",
    "print('\\nObjective Function Values:', trce)"
   ]
  },
  {
   "cell_type": "markdown",
   "metadata": {},
   "source": [
    "### Multi-Start Hill Climbing"
   ]
  },
  {
   "cell_type": "code",
   "execution_count": 24,
   "metadata": {},
   "outputs": [],
   "source": [
    "def multi_hc(tries, hc_iter):\n",
    "    val_list = []\n",
    "    best_sol = []\n",
    "    best_dist = 1000\n",
    "    \n",
    "    for i in range(tries):\n",
    "        current_sol, blist = hill_climbing(hc_iter) # run hill climb algorithm\n",
    "        current_dist = evaluate(colors, current_sol) # evaluate current solution\n",
    "        \n",
    "        # if new solution is better, it becomes the best found solution \n",
    "        if current_dist < best_dist:\n",
    "            best_sol = current_sol.copy()\n",
    "            best_dist = current_dist\n",
    "        val_list.append(current_dist)    \n",
    "            \n",
    "    return val_list, best_sol"
   ]
  },
  {
   "cell_type": "markdown",
   "metadata": {},
   "source": [
    "#### Solution - Colour size 100"
   ]
  },
  {
   "cell_type": "code",
   "execution_count": 17,
   "metadata": {},
   "outputs": [
    {
     "name": "stdout",
     "output_type": "stream",
     "text": [
      "\n",
      "mhc_best100: [4, 9, 7, 40, 26, 88, 62, 27, 1, 34, 0, 18, 72, 24, 31, 54, 16, 77, 38, 52, 67, 21, 85, 28, 84, 65, 87, 90, 30, 43, 6, 63, 83, 17, 32, 59, 57, 94, 74, 49, 48, 79, 5, 56, 91, 10, 46, 51, 35, 44, 81, 95, 42, 69, 47, 68, 29, 76, 45, 3, 73, 64, 89, 80, 60, 15, 82, 2, 19, 93, 66, 23, 55, 8, 92, 70, 13, 20, 53, 36, 14, 33, 12, 25, 58, 75, 86, 61, 50, 37, 78, 71, 41, 11, 39, 22]\n",
      "\n",
      "Objective Function: 21.461653735694973\n",
      "\n",
      "Color Band:\n"
     ]
    },
    {
     "data": {
      "image/png": "[encoded data removed]",
      "text/plain": [
       "<Figure size 720x432 with 1 Axes>"
      ]
     },
     "metadata": {
      "needs_background": "light"
     },
     "output_type": "display_data"
    }
   ],
   "source": [
    "mhc_solutions, cband = multi_hc(5, 100000) # run multi-start hill climbing algorithm, parameters: tires, iterations \n",
    "\n",
    "# print best solution found for colour size 100 \n",
    "# print colour band for solution using visualisation function \n",
    "mhc_best100 = min(mhc_solutions)\n",
    "print('\\nmhc_best100:', cband)\n",
    "print('\\nObjective Function:', mhc_best100)\n",
    "print('\\nColor Band:')\n",
    "plot_colors(colors, cband)"
   ]
  },
  {
   "cell_type": "markdown",
   "metadata": {},
   "source": [
    "#### Solution - Colour size 500"
   ]
  },
  {
   "cell_type": "code",
   "execution_count": 25,
   "metadata": {},
   "outputs": [
    {
     "name": "stdout",
     "output_type": "stream",
     "text": [
      "\n",
      "mhc_best500: [72, 376, 141, 336, 92, 444, 18, 351, 253, 365, 187, 325, 10, 206, 306, 427, 454, 327, 127, 465, 226, 350, 252, 290, 400, 137, 44, 197, 2, 491, 147, 167, 3, 153, 403, 383, 448, 488, 202, 342, 432, 278, 345, 457, 297, 236, 451, 398, 130, 417, 244, 48, 180, 372, 385, 269, 384, 478, 251, 245, 209, 148, 338, 315, 308, 331, 8, 172, 268, 430, 171, 36, 307, 61, 145, 169, 229, 481, 65, 214, 196, 333, 105, 79, 370, 447, 477, 347, 203, 73, 266, 160, 312, 404, 106, 401, 108, 299, 71, 181, 405, 283, 26, 379, 375, 492, 227, 118, 340, 38, 16, 173, 34, 1, 131, 279, 107, 90, 87, 218, 126, 287, 483, 186, 249, 489, 368, 467, 217, 255, 46, 19, 479, 183, 474, 158, 239, 418, 442, 93, 276, 81, 411, 410, 358, 460, 195, 423, 395, 142, 27, 100, 233, 43, 305, 452, 134, 292, 216, 20, 56, 220, 416, 435, 294, 11, 66, 482, 162, 104, 295, 37, 210, 284, 352, 68, 152, 360, 123, 208, 456, 83, 57, 373, 150, 225, 67, 188, 277, 161, 319, 70, 329, 415, 221, 237, 310, 399, 62, 409, 112, 235, 122, 121, 324, 391, 356, 232, 371, 366, 241, 303, 330, 309, 246, 230, 111, 39, 387, 166, 138, 170, 412, 473, 205, 343, 453, 264, 282, 86, 494, 293, 128, 472, 402, 117, 396, 115, 286, 31, 98, 94, 367, 140, 390, 176, 394, 101, 207, 369, 9, 487, 177, 139, 190, 41, 304, 485, 316, 440, 243, 328, 77, 219, 189, 113, 69, 458, 419, 7, 96, 14, 91, 470, 258, 12, 420, 174, 129, 301, 135, 436, 392, 17, 341, 155, 462, 200, 13, 464, 58, 75, 406, 353, 374, 270, 466, 224, 362, 89, 441, 109, 63, 296, 182, 289, 348, 76, 281, 97, 386, 198, 146, 149, 431, 124, 476, 414, 421, 322, 132, 428, 256, 267, 21, 493, 85, 110, 184, 272, 30, 422, 136, 82, 469, 204, 326, 339, 238, 228, 52, 165, 449, 349, 261, 88, 445, 154, 377, 434, 429, 215, 6, 486, 280, 335, 337, 364, 223, 285, 247, 318, 407, 179, 45, 114, 408, 382, 311, 495, 74, 49, 144, 480, 211, 320, 59, 240, 4, 455, 24, 275, 257, 300, 426, 438, 15, 193, 323, 393, 346, 168, 64, 468, 102, 5, 317, 424, 321, 201, 42, 185, 443, 55, 260, 250, 23, 22, 164, 263, 178, 33, 314, 53, 439, 231, 433, 361, 475, 212, 359, 461, 437, 344, 302, 175, 157, 84, 273, 163, 191, 78, 463, 151, 271, 450, 265, 446, 95, 242, 334, 213, 133, 156, 388, 471, 116, 484, 159, 25, 262, 389, 234, 199, 355, 425, 192, 380, 274, 119, 288, 254, 99, 0, 54, 222, 357, 291, 40, 125, 378, 194, 47, 259, 313, 80, 354, 60, 459, 413, 29, 143, 120, 28, 50, 381, 32, 332, 51, 35, 248, 363, 397, 298, 103, 490]\n",
      "\n",
      "Objective Function: 132.9347151436473\n",
      "\n",
      "Color Band:\n"
     ]
    },
    {
     "data": {
      "image/png": "[encoded data removed]",
      "text/plain": [
       "<Figure size 720x432 with 1 Axes>"
      ]
     },
     "metadata": {
      "needs_background": "light"
     },
     "output_type": "display_data"
    }
   ],
   "source": [
    "mhc_solutions, cband = multi_hc(5, 20000) # run multi-start hill climbing algorithm, parameters: tires, iterations \n",
    "\n",
    "# print best solution found for colour size 500 \n",
    "# print colour band for solution using visualisation function \n",
    "mhc_best500 = min(mhc_solutions)\n",
    "print('\\nmhc_best500:', cband)\n",
    "print('\\nObjective Function:', mhc_best500)\n",
    "print('\\nColor Band:')\n",
    "plot_colors(colors, cband, 50)"
   ]
  },
  {
   "cell_type": "markdown",
   "metadata": {},
   "source": [
    "### Experiments\n",
    "\n",
    "<b>mhc_best100:</b> multi_hc(5, 100000)\n",
    "\n",
    "<b>mhc_best500:</b> multi_hc(5, 20000)\n",
    "\n",
    "For the mhc_best100 result, the number of iterations was set at 100,000. Due to computation time, the iterations used for the mhc_best500 was placed at 20,000 which is exactly a fifth of the 100 colour dataset. These values were decided through experimenting with different numbers of iterations while keeping the number of tries constant. \n",
    "\n",
    "The next step was to increase the number of tries to try to improve on the current solutions. 5 tries were selected as the desired amount to minimise the distance as much as possible in a suitable computation time. Using these values the colour bands for the 100 and 500 colour datasets were produced and can be seen above.\n",
    "\n",
    "\n"
   ]
  }
 ],
 "metadata": {
  "kernelspec": {
   "display_name": "Python 3",
   "language": "python",
   "name": "python3"
  },
  "language_info": {
   "codemirror_mode": {
    "name": "ipython",
    "version": 3
   },
   "file_extension": ".py",
   "mimetype": "text/x-python",
   "name": "python",
   "nbconvert_exporter": "python",
   "pygments_lexer": "ipython3",
   "version": "3.8.8"
  }
 },
 "nbformat": 4,
 "nbformat_minor": 4
}
