{
 "cells": [
  {
   "cell_type": "markdown",
   "metadata": {},
   "source": [
    "University of Stirling<br>\n",
    "Author: John Poole (ID: 2636515)\n",
    "#### CSCU9YE - Artificial Intelligence<br>"
   ]
  },
  {
   "cell_type": "markdown",
   "metadata": {},
   "source": [
    "# Notebook 3 - Algorithm variant of your choice (30 %)\n",
    "\n",
    "## Greedy constructive\n",
    "\n",
    "I chose to implement a greedy constructive heuristic for my algorithm variant of choice. The greedy algorithm works by making the locally optimal choice at each stage. They usually fail to find the global optimum solution because they don't exhaustively explore all the data. However, it still represents an effective and efficient way to solve this particular optimisation problem. It should produce a result that improves on the multi-start hill-climb algorithm and is quicker than other optimisation methods. As a result of these characteristics, it makes a good choice for organising the colour palette for 100 and 500 colours."
   ]
  },
  {
   "cell_type": "markdown",
   "metadata": {},
   "source": [
    "### Reading the data file"
   ]
  },
  {
   "cell_type": "code",
   "execution_count": 1,
   "metadata": {},
   "outputs": [],
   "source": [
    "import numpy as np\n",
    "import random as rnd\n",
    "import copy\n",
    "\n",
    "# Read in the color data file \n",
    "# Input: string with file name\n",
    "# Oputput: the number of colours (integer), and a list numpy arrays with all the colours\n",
    "def read_data(fname):\n",
    "    cols = np.loadtxt(fname, skiprows = 4) # The first 4 lines have text information, and are ignored     \n",
    "    ncols = len(cols)     # Total number of colours and list of colours\n",
    "    return ncols,cols"
   ]
  },
  {
   "cell_type": "markdown",
   "metadata": {},
   "source": [
    "#### 100 Colour dataset"
   ]
  },
  {
   "cell_type": "code",
   "execution_count": 2,
   "metadata": {},
   "outputs": [],
   "source": [
    "ncolors, colors = read_data(\"col100.txt\")"
   ]
  },
  {
   "cell_type": "markdown",
   "metadata": {},
   "source": [
    "#### 500 Colour dataset"
   ]
  },
  {
   "cell_type": "code",
   "execution_count": 27,
   "metadata": {},
   "outputs": [],
   "source": [
    "ncolors, colors = read_data(\"col500.txt\")"
   ]
  },
  {
   "cell_type": "markdown",
   "metadata": {},
   "source": [
    "### Plotting a sequence of colours"
   ]
  },
  {
   "cell_type": "code",
   "execution_count": 3,
   "metadata": {},
   "outputs": [],
   "source": [
    "import matplotlib.pyplot as plt\n",
    "\n",
    "# Dsiplay the colors as a strip of color bars\n",
    "# Input: list of colors, order of colors, and height/ratio\n",
    "\n",
    "def plot_colors(col_list, col_order, ratio = 10): \n",
    "    assert len(col_list) == len(col_order)\n",
    "    img = np.zeros((ratio, len(col_list), 3))\n",
    "    for i in range(0, len(col_list)):\n",
    "        img[:, i, :] = col_list[col_order[i]]\n",
    "    fig, axes = plt.subplots(1, figsize=(10,6)) # figsize=(width,height) handles window dimensions\n",
    "    axes.imshow(img, interpolation='nearest')\n",
    "    axes.axis('off')\n",
    "    plt.show()"
   ]
  },
  {
   "cell_type": "markdown",
   "metadata": {},
   "source": [
    "### Evaluation function to determine the quality of a given ordering of colours"
   ]
  },
  {
   "cell_type": "code",
   "execution_count": 4,
   "metadata": {},
   "outputs": [],
   "source": [
    "# This is an auxiliary function. It calculate the Euclidean distance between two individual colours\n",
    "# Input: v and u as to be numpy arrays, vectors of real numbers with the RGB coordinates.\n",
    "\n",
    "def euclid(v, u):\n",
    "    return np.linalg.norm(v - u)\n",
    "\n",
    "# Evaluation function.  Measures the quality of a given solution (ordering of colours) \n",
    "# The function computes the sum of the distances between all consecutive colours in the ordering\n",
    "# Input: cols: list of colours \n",
    "#        ordc: ordering of colours\n",
    "# Output: real number with the sumf of pair-wise differences in the colour ordering\n",
    "\n",
    "def evaluate(cols, ordc):     \n",
    "    adjacentColPairs = [[cols[ordc[i]],cols[ordc[i-1]]] for i in range(1,len(ordc))]\n",
    "    return sum([euclid(i[1], i[0]) for i in adjacentColPairs])"
   ]
  },
  {
   "cell_type": "markdown",
   "metadata": {},
   "source": [
    "### Greedy constructive algorithm"
   ]
  },
  {
   "cell_type": "code",
   "execution_count": 9,
   "metadata": {},
   "outputs": [],
   "source": [
    "def random_sol():\n",
    "    sol = list(range(ncolors))   # list of consequtive numbers from 0 to ncolors\n",
    "    # Shuffle the elements in the list randomly. Shuffles in place and doesn’t retunr a value\n",
    "    rnd.shuffle(sol)   \n",
    "    return sol\n",
    "\n",
    "def greedy(ncolr):\n",
    "    colours = ncolr.copy()\n",
    "    ordered_colours = []\n",
    "\n",
    "    rnd_colour = rnd.choice(colours) # random start colour index\n",
    "    colours.remove(rnd_colour) # remove colour from colours list\n",
    "    ordered_colours.append(rnd_colour) # add colour to ordered colour list\n",
    "    \n",
    "    # Ensuring the list of colours is not empty \n",
    "    while len(colours) > 0:\n",
    "        lowest_distance = 1000\n",
    "        colour_val = colors[rnd_colour] # colour value at randomly selected index\n",
    "\n",
    "        # Iterate through colours list \n",
    "        for i in range(0, len(colours)):\n",
    "            current_distance = euclid(colour_val, colors[colours[i]]) # generate distance\n",
    "            \n",
    "            # if current distance is shorter, it becomes the new lowest distance\n",
    "            if current_distance < lowest_distance: \n",
    "                lowest_distance = current_distance \n",
    "                next_colour = colours[i] # assign the next colour\n",
    "   \n",
    "        colours.remove(next_colour) # remove the next colour \n",
    "        ordered_colours.append(next_colour) # add next colour to ordered colour list\n",
    "        rnd_colour = next_colour # reassign rnd_colour variable \n",
    "      \n",
    "    return ordered_colours # return list of colours ordered by thier index "
   ]
  },
  {
   "cell_type": "markdown",
   "metadata": {},
   "source": [
    "#### Solution - Colour size 100"
   ]
  },
  {
   "cell_type": "code",
   "execution_count": 25,
   "metadata": {},
   "outputs": [
    {
     "name": "stdout",
     "output_type": "stream",
     "text": [
      "\n",
      "my_best100: [85, 4, 9, 57, 59, 83, 17, 32, 92, 70, 10, 58, 75, 86, 69, 47, 52, 67, 29, 68, 76, 40, 13, 7, 20, 53, 36, 25, 56, 5, 33, 12, 14, 91, 54, 31, 24, 72, 18, 46, 51, 44, 35, 81, 93, 19, 66, 23, 55, 39, 22, 48, 49, 74, 62, 27, 71, 41, 11, 95, 42, 34, 77, 16, 38, 26, 21, 90, 87, 65, 88, 1, 94, 78, 50, 37, 28, 84, 61, 30, 45, 43, 60, 80, 6, 63, 89, 64, 73, 3, 15, 82, 2, 8, 79, 0]\n",
      "\n",
      "Objective Function: 16.97076365623553\n",
      "\n",
      "Color Band:\n"
     ]
    },
    {
     "data": {
      "image/png": "[encoded data removed]",
      "text/plain": [
       "<Figure size 720x432 with 1 Axes>"
      ]
     },
     "metadata": {
      "needs_background": "light"
     },
     "output_type": "display_data"
    }
   ],
   "source": [
    "sol = random_sol()\n",
    "greed = greedy(sol)\n",
    "\n",
    "my_best100 = evaluate(colors, greed)\n",
    "print('\\nmy_best100:', greed)\n",
    "print('\\nObjective Function:', my_best100)\n",
    "print('\\nColor Band:')\n",
    "plot_colors(colors, greed)"
   ]
  },
  {
   "cell_type": "markdown",
   "metadata": {},
   "source": [
    "#### Solution - Colour size 500"
   ]
  },
  {
   "cell_type": "code",
   "execution_count": 70,
   "metadata": {},
   "outputs": [
    {
     "name": "stdout",
     "output_type": "stream",
     "text": [
      "\n",
      "my_best500: [425, 144, 48, 199, 355, 438, 233, 193, 323, 356, 15, 82, 247, 318, 327, 230, 134, 136, 109, 452, 266, 168, 63, 89, 407, 64, 315, 441, 203, 347, 126, 477, 374, 83, 253, 466, 319, 365, 208, 270, 148, 338, 258, 220, 416, 222, 389, 91, 187, 470, 464, 455, 10, 325, 158, 329, 368, 474, 234, 282, 395, 185, 42, 312, 289, 113, 415, 182, 221, 112, 26, 149, 145, 140, 390, 84, 367, 488, 273, 409, 241, 169, 481, 65, 229, 296, 90, 118, 87, 279, 223, 339, 85, 259, 335, 379, 21, 178, 493, 135, 361, 277, 487, 123, 40, 307, 14, 33, 314, 12, 291, 357, 56, 462, 25, 155, 53, 36, 171, 430, 5, 453, 343, 17, 102, 32, 92, 336, 147, 206, 167, 351, 392, 479, 70, 183, 433, 345, 58, 297, 457, 306, 213, 240, 295, 57, 160, 207, 101, 292, 391, 236, 371, 232, 127, 394, 366, 176, 269, 381, 214, 494, 181, 157, 450, 271, 71, 41, 446, 104, 401, 100, 11, 299, 108, 298, 34, 399, 404, 344, 138, 302, 252, 288, 254, 290, 16, 77, 175, 170, 310, 412, 397, 99, 205, 473, 54, 98, 243, 31, 423, 0, 363, 294, 24, 72, 18, 46, 209, 141, 332, 442, 44, 245, 410, 51, 137, 35, 358, 255, 300, 95, 248, 482, 257, 275, 411, 81, 103, 93, 286, 490, 276, 115, 480, 478, 384, 19, 251, 396, 117, 426, 197, 370, 8, 196, 491, 2, 469, 211, 454, 447, 320, 427, 333, 242, 239, 217, 105, 467, 190, 139, 249, 489, 418, 406, 164, 204, 192, 79, 443, 39, 111, 55, 23, 402, 22, 387, 472, 151, 463, 285, 372, 49, 180, 74, 128, 330, 309, 212, 385, 465, 226, 94, 163, 293, 62, 27, 106, 461, 1, 437, 154, 445, 350, 142, 265, 417, 483, 186, 61, 373, 78, 50, 37, 451, 408, 146, 475, 198, 386, 261, 97, 375, 110, 340, 256, 267, 67, 321, 52, 38, 228, 238, 342, 68, 152, 360, 337, 76, 348, 165, 449, 349, 262, 484, 159, 414, 278, 201, 424, 317, 429, 122, 301, 235, 189, 219, 377, 283, 131, 88, 405, 143, 202, 359, 303, 311, 382, 495, 398, 130, 120, 107, 448, 227, 150, 492, 184, 459, 383, 114, 43, 305, 486, 6, 403, 354, 80, 60, 422, 28, 369, 9, 313, 263, 4, 244, 353, 133, 75, 436, 86, 69, 304, 431, 124, 47, 432, 476, 96, 177, 458, 316, 485, 216, 215, 13, 341, 20, 161, 393, 419, 7, 284, 200, 352, 364, 281, 194, 378, 188, 29, 132, 125, 428, 420, 174, 322, 129, 421, 434, 237, 328, 173, 400, 440, 116, 119, 231, 334, 439, 59, 121, 210, 45, 272, 413, 30, 280, 225, 191, 326, 246, 331, 218, 73, 468, 3, 153, 308, 324, 380, 362, 346, 274, 179, 224, 287, 456, 268, 264, 460, 195, 388, 156, 471, 444, 376, 435, 172, 66, 260, 166, 250, 162]\n",
      "\n",
      "Objective Function: 51.64416182252775\n",
      "\n",
      "Color Band:\n"
     ]
    },
    {
     "data": {
      "image/png": "[encoded data removed]",
      "text/plain": [
       "<Figure size 720x432 with 1 Axes>"
      ]
     },
     "metadata": {
      "needs_background": "light"
     },
     "output_type": "display_data"
    }
   ],
   "source": [
    "sol = random_sol()\n",
    "greed = greedy(sol)\n",
    "\n",
    "my_best500 = evaluate(colors, greed)\n",
    "print('\\nmy_best500:', greed)\n",
    "print('\\nObjective Function:', my_best500)\n",
    "print('\\nColor Band:')\n",
    "plot_colors(colors, greed, 50)"
   ]
  },
  {
   "cell_type": "markdown",
   "metadata": {},
   "source": [
    "### Experiments"
   ]
  },
  {
   "cell_type": "markdown",
   "metadata": {},
   "source": [
    "The greedy constructive heuristic receives a random solution as its only parameter. I ran the algorithm for several different random solutions to produce the distances that I consider a minimum as a result of my experiments. Above is the lowest distances I found for colour sizes of 100 and 500. These values and the appearance of the colour band show improvements on the previous two algorithms. Therefore the aims of implementing this algorithm were achieved."
   ]
  }
 ],
 "metadata": {
  "kernelspec": {
   "display_name": "Python 3",
   "language": "python",
   "name": "python3"
  },
  "language_info": {
   "codemirror_mode": {
    "name": "ipython",
    "version": 3
   },
   "file_extension": ".py",
   "mimetype": "text/x-python",
   "name": "python",
   "nbconvert_exporter": "python",
   "pygments_lexer": "ipython3",
   "version": "3.8.8"
  }
 },
 "nbformat": 4,
 "nbformat_minor": 4
}
