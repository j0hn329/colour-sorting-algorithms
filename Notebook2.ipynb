{
 "cells": [
  {
   "cell_type": "markdown",
   "metadata": {},
   "source": [
    "University of Stirling<br>\n",
    "Author: John Poole (ID: 2636515)\n",
    "#### CSCU9YE - Artificial Intelligence<br>"
   ]
  },
  {
   "cell_type": "markdown",
   "metadata": {},
   "source": [
    "# Notebook 2 - Clustering-based algorithm (30%)\n",
    "\n",
    "## K-means clustering \n",
    "\n",
    "I chose to implement k-means clustering for my cluster-based algorithm. The k-means algorithm is iterative and splits the dataset into a K number of pre-defined groups  known as clusters. It will be implemented by using the scikit-learn library. K-means is relatively simple to implement through this library making it an effective algorithm for this optimisation problem. It also guarantees convergence and can be scaled to large data sets. All these characteristics make it an efficient clustering algorithm to implement. "
   ]
  },
  {
   "cell_type": "markdown",
   "metadata": {},
   "source": [
    "### Reading the data file"
   ]
  },
  {
   "cell_type": "code",
   "execution_count": 14,
   "metadata": {},
   "outputs": [],
   "source": [
    "import random as rnd\n",
    "import numpy as np # Numerical library, used keeing the list of colours and computing the Euclidean distance\n",
    "import pandas as pd \n",
    "\n",
    "# Read in the color data file \n",
    "# Input: string with file name\n",
    "# Oputput: the number of colours (integer), and a list numpy arrays with all the colours\n",
    "def read_data(fname):\n",
    "    cols = np.loadtxt(fname, skiprows = 4) # The first 4 lines have text information, and are ignored     \n",
    "    ncols = len(cols)     # Total number of colours and list of colours\n",
    "    return ncols,cols"
   ]
  },
  {
   "cell_type": "markdown",
   "metadata": {},
   "source": [
    "#### 100 Colour dataset"
   ]
  },
  {
   "cell_type": "code",
   "execution_count": 13,
   "metadata": {},
   "outputs": [],
   "source": [
    "ncolors, colors = read_data(\"col100.txt\") "
   ]
  },
  {
   "cell_type": "markdown",
   "metadata": {},
   "source": [
    "#### 500 Colour dataset"
   ]
  },
  {
   "cell_type": "code",
   "execution_count": 15,
   "metadata": {},
   "outputs": [],
   "source": [
    "ncolors, colors = read_data(\"col500.txt\")"
   ]
  },
  {
   "cell_type": "markdown",
   "metadata": {},
   "source": [
    "### Plotting a sequence of colours"
   ]
  },
  {
   "cell_type": "code",
   "execution_count": 16,
   "metadata": {},
   "outputs": [],
   "source": [
    "import matplotlib.pyplot as plt\n",
    "\n",
    "# Dsiplay the colors as a strip of color bars\n",
    "# Input: list of colors, order of colors, and height/ratio\n",
    "\n",
    "def plot_colors(col_list, col_order, ratio = 10): \n",
    "    assert len(col_list) == len(col_order)\n",
    "    img = np.zeros((ratio, len(col_list), 3))\n",
    "    for i in range(0, len(col_list)):\n",
    "        img[:, i, :] = col_list[col_order[i]]\n",
    "    fig, axes = plt.subplots(1, figsize=(10,6)) # figsize=(width,height) handles window dimensions\n",
    "    axes.imshow(img, interpolation='nearest')\n",
    "    axes.axis('off')\n",
    "    plt.show()"
   ]
  },
  {
   "cell_type": "markdown",
   "metadata": {},
   "source": [
    "### Evaluation function to approximate the quality of the cluster based ordering solutions "
   ]
  },
  {
   "cell_type": "code",
   "execution_count": 17,
   "metadata": {},
   "outputs": [],
   "source": [
    "# This is an auxiliary function. It calculate the Euclidean distance between two individual colours\n",
    "# Input: v and u as to be numpy arrays, vectors of real numbers with the RGB coordinates.\n",
    "\n",
    "def euclid(v, u):\n",
    "    return np.linalg.norm(v - u)\n",
    "\n",
    "# Evaluation function.  Measures the quality of a given solution (ordering of colours) \n",
    "# The function computes the sum of the distances between all consecutive colours in the ordering\n",
    "# Input: cols: list of colours \n",
    "#        ordc: ordering of colours\n",
    "# Output: real number with the sumf of pair-wise differences in the colour ordering\n",
    "\n",
    "def evaluate(cols, ordc):     \n",
    "    adjacentColPairs = [[cols[ordc[i]],cols[ordc[i-1]]] for i in range(1,len(ordc))]\n",
    "    return sum([euclid(i[1], i[0]) for i in adjacentColPairs])"
   ]
  },
  {
   "cell_type": "markdown",
   "metadata": {},
   "source": [
    "### Data preprocessing"
   ]
  },
  {
   "cell_type": "code",
   "execution_count": 18,
   "metadata": {},
   "outputs": [],
   "source": [
    "# Standardise the data to normal distribution\n",
    "from sklearn import preprocessing\n",
    "\n",
    "data_scaled = preprocessing.scale(colors)   # This produces a matrix with the scaled data.\n",
    "data_scaled = pd.DataFrame(data_scaled)   # We transform it to a data frame for clustering"
   ]
  },
  {
   "cell_type": "markdown",
   "metadata": {},
   "source": [
    "#### Solution - Colour size 100"
   ]
  },
  {
   "cell_type": "code",
   "execution_count": 11,
   "metadata": {},
   "outputs": [
    {
     "name": "stdout",
     "output_type": "stream",
     "text": [
      "\n",
      "cl_best100: [84 30 50 94 85 90 87  9 61 78  4 28 43 65 45 37 25 40 20 36 53 14 13 12\n",
      " 56 91  7  5 70 76 33 38 47 54 69 77 52 34 67  1 88 86 21 26 16 29 68 22\n",
      " 66 39  2 93 62 71 74 23 11 55 82 41 19 79 49 48 27 72 81 92 75  0 32  8\n",
      " 10 17 18 24 31 35 42 95 46 51 58 44 80 64 83 57 73 15 89 59 60  6  3 63]\n",
      "\n",
      "Objective Function: 37.38726692498186\n",
      "\n",
      "Color Band:\n"
     ]
    },
    {
     "data": {
      "image/png": "[encoded data removed]",
      "text/plain": [
       "<Figure size 720x432 with 1 Axes>"
      ]
     },
     "metadata": {
      "needs_background": "light"
     },
     "output_type": "display_data"
    }
   ],
   "source": [
    "from sklearn.cluster import KMeans\n",
    "\n",
    "kmeans = KMeans(n_clusters = 6, init = 'k-means++', max_iter = 300, n_init = 10, random_state = 0) # K-means algorithm with parameters\n",
    "clusters = kmeans.fit_predict(data_scaled) # compute cluster centres and predict cluster\n",
    "\n",
    "data_scaled['3'] = clusters  # New column labelled '3' which represents the cluster assigned to each colour\n",
    "ordered_clusters = data_scaled.sort_values(by='3') # Ordering colours according to their cluster membership\n",
    "cl_best100 = ordered_clusters.index.values # extracting the ordered cluster values for visualisation in the colour band \n",
    "\n",
    "print('\\ncl_best100:', cl_best100)\n",
    "print('\\nObjective Function:', evaluate(colors,cl_best100))\n",
    "print('\\nColor Band:')\n",
    "plot_colors(colors, cl_best100)"
   ]
  },
  {
   "cell_type": "markdown",
   "metadata": {},
   "source": [
    "#### Solution - Colour size 500"
   ]
  },
  {
   "cell_type": "code",
   "execution_count": 22,
   "metadata": {},
   "outputs": [
    {
     "name": "stdout",
     "output_type": "stream",
     "text": [
      "\n",
      "cl_best500: [169 448 386  97 451 244  90  87  85  84 383  78 259 459 261 263 375 373\n",
      "  65 272  61 369 107 110 229 227 339 408 178 422 150 149 146 145 184 186\n",
      " 279 191 135 198 130 210 120 118 223 225 114 390 140 280 413 326  37 296\n",
      " 481   9  43 335  45  26 340 493   4 367  30  28 492 475  50 324 441 346\n",
      " 224 230 315 313 308 218 109 347 391 468 127 160 419   3 153 179 407   6\n",
      " 126 331 136 327 134 486 203 477 207 403 236 232 266  64 168 295  63 380\n",
      "  60  59 354 362  89 246  57 101 305 371 452  73 292 287 240 274  80 190\n",
      " 332 239 183 406 329 363 275 410 282 368 268 336 294 400 234 388 242 243\n",
      " 306 245 353 248 300 345 358 249 297 217 325 209 257 206 395 264 376 195\n",
      " 255   0  51 139  18  31 137 133 482 433 474 455 435 457 436  95  98 440\n",
      "  35 105  24 467 442 116 443  92 141 444 158 418 423  58 471  46 464 470\n",
      "  44  10 489  72 460  75 147 156 102 357 458  56 466  53  32  33 231 365\n",
      " 453 258  91 270 374  83 456 416 462 291  70  36 253 338  25 389 343  17\n",
      " 187 430 485  13 148 319  12 177 341 171 334 161 167   7   5 155  20 222\n",
      " 393 439 215 216 208 213 351 220 307 479 314 316 121 392 302  34 298 473\n",
      " 317  42 310 288  16 289 312  38 290 328 344 415 235 205 189  54 122 219\n",
      " 221 113 112 108 201 185 138 237 429 434 182 424  86 252 175 142 254 399\n",
      "  77 377 173  69 170 412 404  99 397 372 488 409 417 405 402 437 401 366\n",
      " 465 463 461 381 472 483 359 450 387 446 445 350 398 385 382 495 162 271\n",
      " 269 265 157  88 260 250  94 494 241 100 226 214 212 104 106 111 202 128\n",
      " 131 143 181 180 176 151 154 166 273  74 163 303 311  11 309  22  71  23\n",
      "  27 299  39  41 293   1  62  55 285 283 330  49 144 491 427 426   8   2\n",
      "  15 425 490  19  66 117 115 480 478 447 103  93 454  48  82 469  79 438\n",
      "  81 333 247 370 276 164 286 251 384 233 211 394 204 396 199 355 197 196\n",
      " 356 318 323 193 192 320 411 172 342 281  52 284 364 322 321  47 361 352\n",
      "  21 360 487  14  29 476 301 278 348 484 304 349  40 277 414  68 337 159\n",
      " 165 420 421 152 174 188 428 194 431 432 132  67 129 124 123 119 200 228\n",
      " 449 238  96 256 378 262 267  76 125 379]\n",
      "\n",
      "Objective Function: 165.08980597598838\n",
      "\n",
      "Color Band:\n"
     ]
    },
    {
     "data": {
      "image/png": "[encoded data removed]",
      "text/plain": [
       "<Figure size 720x432 with 1 Axes>"
      ]
     },
     "metadata": {
      "needs_background": "light"
     },
     "output_type": "display_data"
    }
   ],
   "source": [
    "from sklearn.cluster import KMeans\n",
    "\n",
    "kmeans = KMeans(n_clusters = 8, init = 'k-means++', max_iter = 300, n_init = 10, random_state = 0) # K-means algorithm with parameters\n",
    "clusters = kmeans.fit_predict(data_scaled) # compute cluster centres and predict cluster\n",
    "\n",
    "data_scaled['3'] = clusters  # New column labelled '3' which represents the cluster assigned to each colour\n",
    "ordered_clusters = data_scaled.sort_values(by='3') # Ordering colours according to their cluster membership\n",
    "cl_best500 = ordered_clusters.index.values # extracting the ordered cluster values for visualisation in the colour band \n",
    "\n",
    "print('\\ncl_best500:', cl_best500)\n",
    "print('\\nObjective Function:', evaluate(colors,cl_best500))\n",
    "print('\\nColor Band:')\n",
    "plot_colors(colors, cl_best500, 50)"
   ]
  },
  {
   "cell_type": "markdown",
   "metadata": {},
   "source": [
    "### Experiments"
   ]
  },
  {
   "cell_type": "markdown",
   "metadata": {},
   "source": [
    "<b>cl_best100:</b> 6 Cluster Groups\n",
    "<br>\n",
    "<b>cl_best500:</b> 8 Cluster Groups\n",
    "<br>\n",
    "<br>\n",
    "I chose these cluster sizes for both 100 and 500 colours because during my experimentation they produced the most visually appealing colour bands. They also both produced a relatively low evaluation values.  The experimentation for both datasets consisted of trying different cluster sizes and altering the other KMeans parameters to produce the results seen above. I tried different cluster sizes between the range of 1 and 20 as any sizes above this cluster range started to produce less appealing colour bands."
   ]
  }
 ],
 "metadata": {
  "kernelspec": {
   "display_name": "Python 3",
   "language": "python",
   "name": "python3"
  },
  "language_info": {
   "codemirror_mode": {
    "name": "ipython",
    "version": 3
   },
   "file_extension": ".py",
   "mimetype": "text/x-python",
   "name": "python",
   "nbconvert_exporter": "python",
   "pygments_lexer": "ipython3",
   "version": "3.8.8"
  }
 },
 "nbformat": 4,
 "nbformat_minor": 4
}
